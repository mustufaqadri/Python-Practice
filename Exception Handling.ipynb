{
 "cells": [
  {
   "cell_type": "code",
   "execution_count": 8,
   "metadata": {},
   "outputs": [
    {
     "name": "stdout",
     "output_type": "stream",
     "text": [
      "Completed\n",
      "20\n"
     ]
    }
   ],
   "source": [
    "try:\n",
    "    result=10+10\n",
    "except:\n",
    "    print(\"Invalid addition\")\n",
    "else:\n",
    "    print(\"Completed\")\n",
    "    print(result)"
   ]
  },
  {
   "cell_type": "code",
   "execution_count": 7,
   "metadata": {},
   "outputs": [
    {
     "data": {
      "text/plain": [
       "20"
      ]
     },
     "execution_count": 7,
     "metadata": {},
     "output_type": "execute_result"
    }
   ],
   "source": [
    "result"
   ]
  },
  {
   "cell_type": "code",
   "execution_count": 10,
   "metadata": {},
   "outputs": [
    {
     "name": "stdout",
     "output_type": "stream",
     "text": [
      "OS Error Found\n",
      "I always Run\n"
     ]
    }
   ],
   "source": [
    "try:\n",
    "    f = open('f1.txt','r')\n",
    "    f.write(\"Test line\")\n",
    "except TypeError:\n",
    "    print(\"Type Error Found\")\n",
    "except OSError:\n",
    "    print(\"OS Error Found\")\n",
    "finally:\n",
    "    print(\"I always Run\")"
   ]
  },
  {
   "cell_type": "code",
   "execution_count": 11,
   "metadata": {},
   "outputs": [],
   "source": [
    "def AskInt():\n",
    "    while True:\n",
    "        try:\n",
    "            num = int(input(\"Enter a number: \"))\n",
    "        except:\n",
    "            print(\"Invalid Input\")\n",
    "            continue\n",
    "        else:\n",
    "            print(\"Correct Input\")\n",
    "            break\n",
    "        finally:\n",
    "            print(\"Finally block\")"
   ]
  },
  {
   "cell_type": "code",
   "execution_count": 13,
   "metadata": {},
   "outputs": [
    {
     "name": "stdout",
     "output_type": "stream",
     "text": [
      "Enter a number: e\n",
      "Invalid Input\n",
      "Finally block\n",
      "Enter a number: e\n",
      "Invalid Input\n",
      "Finally block\n",
      "Enter a number: e\n",
      "Invalid Input\n",
      "Finally block\n",
      "Enter a number: 3\n",
      "Correct Input\n",
      "Finally block\n"
     ]
    }
   ],
   "source": [
    "AskInt()"
   ]
  },
  {
   "cell_type": "code",
   "execution_count": null,
   "metadata": {},
   "outputs": [],
   "source": []
  }
 ],
 "metadata": {
  "kernelspec": {
   "display_name": "Python 3",
   "language": "python",
   "name": "python3"
  },
  "language_info": {
   "codemirror_mode": {
    "name": "ipython",
    "version": 3
   },
   "file_extension": ".py",
   "mimetype": "text/x-python",
   "name": "python",
   "nbconvert_exporter": "python",
   "pygments_lexer": "ipython3",
   "version": "3.7.4"
  }
 },
 "nbformat": 4,
 "nbformat_minor": 2
}
